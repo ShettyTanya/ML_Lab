{
  "nbformat": 4,
  "nbformat_minor": 0,
  "metadata": {
    "colab": {
      "provenance": []
    },
    "kernelspec": {
      "name": "python3",
      "display_name": "Python 3"
    },
    "language_info": {
      "name": "python"
    }
  },
  "cells": [
    {
      "cell_type": "code",
      "execution_count": null,
      "metadata": {
        "colab": {
          "base_uri": "https://localhost:8080/"
        },
        "id": "HqE_n-xvffna",
        "outputId": "4d79e943-9286-4228-8a9b-07248f05b5d4"
      },
      "outputs": [
        {
          "output_type": "stream",
          "name": "stdout",
          "text": [
            "Accuracy: 0.5\n",
            "\n",
            "Confusion Matrix:\n",
            " [[1 0]\n",
            " [1 0]]\n",
            "\n",
            "Classification Report:\n",
            "               precision    recall  f1-score   support\n",
            "\n",
            "       Besni       0.50      1.00      0.67         1\n",
            "     Kecimen       0.00      0.00      0.00         1\n",
            "\n",
            "    accuracy                           0.50         2\n",
            "   macro avg       0.25      0.50      0.33         2\n",
            "weighted avg       0.25      0.50      0.33         2\n",
            "\n"
          ]
        },
        {
          "output_type": "stream",
          "name": "stderr",
          "text": [
            "/usr/local/lib/python3.11/dist-packages/sklearn/metrics/_classification.py:1565: UndefinedMetricWarning: Precision is ill-defined and being set to 0.0 in labels with no predicted samples. Use `zero_division` parameter to control this behavior.\n",
            "  _warn_prf(average, modifier, f\"{metric.capitalize()} is\", len(result))\n",
            "/usr/local/lib/python3.11/dist-packages/sklearn/metrics/_classification.py:1565: UndefinedMetricWarning: Precision is ill-defined and being set to 0.0 in labels with no predicted samples. Use `zero_division` parameter to control this behavior.\n",
            "  _warn_prf(average, modifier, f\"{metric.capitalize()} is\", len(result))\n",
            "/usr/local/lib/python3.11/dist-packages/sklearn/metrics/_classification.py:1565: UndefinedMetricWarning: Precision is ill-defined and being set to 0.0 in labels with no predicted samples. Use `zero_division` parameter to control this behavior.\n",
            "  _warn_prf(average, modifier, f\"{metric.capitalize()} is\", len(result))\n"
          ]
        }
      ],
      "source": [
        "import pandas as pd\n",
        "from sklearn.model_selection import train_test_split\n",
        "from sklearn.ensemble import RandomForestClassifier\n",
        "from sklearn.metrics import accuracy_score, classification_report, confusion_matrix\n",
        "from sklearn.preprocessing import LabelEncoder\n",
        "\n",
        "# 🍇 Resin dataset including both Kecimen and Besni\n",
        "data = {\n",
        "    'Area': [87524, 75166, 90856, 79000, 76500],\n",
        "    'MajorAxisLength': [442.25, 406.69, 442.27, 420.12, 410.55],\n",
        "    'MinorAxisLength': [253.29, 243.03, 266.33, 240.11, 235.78],\n",
        "    'Eccentricity': [0.8197, 0.8018, 0.7984, 0.805, 0.802],\n",
        "    'ConvexArea': [90546, 78789, 93717, 82000, 79500],\n",
        "    'Extent': [0.7587, 0.6841, 0.6376, 0.72, 0.69],\n",
        "    'Perimeter': [1184.04, 1121.79, 1208.58, 1150.3, 1132.0],\n",
        "    'Class': ['Kecimen', 'Kecimen', 'Kecimen', 'Besni', 'Besni']\n",
        "}\n",
        "\n",
        "# 🧹 Create DataFrame\n",
        "df = pd.DataFrame(data)\n",
        "\n",
        "# 🧠 Features and Target\n",
        "X = df.drop(\"Class\", axis=1)\n",
        "y = df[\"Class\"]\n",
        "\n",
        "# 🎯 Encode Target Labels\n",
        "le = LabelEncoder()\n",
        "y_encoded = le.fit_transform(y)\n",
        "\n",
        "# ✂️ Train-Test Split\n",
        "X_train, X_test, y_train, y_test = train_test_split(X, y_encoded, test_size=0.4, random_state=42)\n",
        "\n",
        "# 🌲 Train Random Forest\n",
        "model = RandomForestClassifier(n_estimators=10, random_state=42)\n",
        "model.fit(X_train, y_train)\n",
        "\n",
        "# 🔮 Predict\n",
        "y_pred = model.predict(X_test)\n",
        "\n",
        "# 📊 Evaluate\n",
        "print(\"Accuracy:\", accuracy_score(y_test, y_pred))\n",
        "print(\"\\nConfusion Matrix:\\n\", confusion_matrix(y_test, y_pred))\n",
        "print(\"\\nClassification Report:\\n\", classification_report(y_test, y_pred, target_names=le.classes_))\n"
      ]
    },
    {
      "cell_type": "code",
      "source": [
        "from sklearn.datasets import load_iris\n",
        "from sklearn.ensemble import RandomForestClassifier\n",
        "from sklearn.model_selection import train_test_split\n",
        "from sklearn.metrics import accuracy_score, classification_report\n",
        "\n",
        "# Load dataset\n",
        "iris = load_iris()\n",
        "X = iris.data\n",
        "y = iris.target\n",
        "target_names = iris.target_names\n",
        "\n",
        "# Split (80% training, 20% testing)\n",
        "X_train, X_test, y_train, y_test = train_test_split(\n",
        "    X, y, test_size=0.2, random_state=42\n",
        ")\n",
        "\n",
        "# Random Forest with optimized parameters\n",
        "clf = RandomForestClassifier(\n",
        "    n_estimators=200,        # More trees\n",
        "    max_depth=5,             # Limit tree depth\n",
        "    min_samples_split=2,\n",
        "    random_state=42\n",
        ")\n",
        "clf.fit(X_train, y_train)\n",
        "\n",
        "# Predict and evaluate\n",
        "y_pred = clf.predict(X_test)\n",
        "accuracy = accuracy_score(y_test, y_pred)\n",
        "\n",
        "print(\"✅ Accuracy:\", round(accuracy * 100, 2), \"%\")\n",
        "print(\"\\nClassification Report:\\n\", classification_report(y_test, y_pred))\n",
        "\n",
        "# Sample prediction\n",
        "sample_input = X_test[0].reshape(1, -1)\n",
        "sample_true_label = y_test[0]\n",
        "sample_pred_label = clf.predict(sample_input)[0]\n",
        "sample_pred_proba = clf.predict_proba(sample_input)[0]\n",
        "\n",
        "print(\"\\n🔍 Sample Prediction\")\n",
        "print(\"Input Features:\", sample_input[0])\n",
        "print(\"True Class:\", target_names[sample_true_label])\n",
        "print(\"Predicted Class:\", target_names[sample_pred_label])\n",
        "print(\"Prediction Probabilities:\")\n",
        "for i, prob in enumerate(sample_pred_proba):\n",
        "    print(f\"  {target_names[i]}: {prob:.2f}\")"
      ],
      "metadata": {
        "id": "NjX5H_ayqUe7",
        "colab": {
          "base_uri": "https://localhost:8080/"
        },
        "outputId": "4c79cd1c-8966-46b4-cb1b-a41d635caaa1"
      },
      "execution_count": 2,
      "outputs": [
        {
          "output_type": "stream",
          "name": "stdout",
          "text": [
            "✅ Accuracy: 100.0 %\n",
            "\n",
            "Classification Report:\n",
            "               precision    recall  f1-score   support\n",
            "\n",
            "           0       1.00      1.00      1.00        10\n",
            "           1       1.00      1.00      1.00         9\n",
            "           2       1.00      1.00      1.00        11\n",
            "\n",
            "    accuracy                           1.00        30\n",
            "   macro avg       1.00      1.00      1.00        30\n",
            "weighted avg       1.00      1.00      1.00        30\n",
            "\n",
            "\n",
            "🔍 Sample Prediction\n",
            "Input Features: [6.1 2.8 4.7 1.2]\n",
            "True Class: versicolor\n",
            "Predicted Class: versicolor\n",
            "Prediction Probabilities:\n",
            "  setosa: 0.00\n",
            "  versicolor: 0.98\n",
            "  virginica: 0.02\n"
          ]
        }
      ]
    }
  ]
}