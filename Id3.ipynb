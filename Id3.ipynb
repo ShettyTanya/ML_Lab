{
  "nbformat": 4,
  "nbformat_minor": 0,
  "metadata": {
    "colab": {
      "provenance": []
    },
    "kernelspec": {
      "name": "python3",
      "display_name": "Python 3"
    },
    "language_info": {
      "name": "python"
    }
  },
  "cells": [
    {
      "cell_type": "code",
      "execution_count": null,
      "metadata": {
        "colab": {
          "base_uri": "https://localhost:8080/"
        },
        "id": "25Pqr9xWX-lo",
        "outputId": "66437a37-931a-43cf-c23e-ead3e34548a7"
      },
      "outputs": [
        {
          "output_type": "stream",
          "name": "stdout",
          "text": [
            "Decision Tree:\n",
            "{'Outlook': {'sunny': {'Humidity': {'high': 'no', 'normal': 'yes'}}, 'overcast': 'yes', 'rain': {'Wind': {'weak': 'yes', 'strong': 'no'}}}}\n"
          ]
        }
      ],
      "source": [
        "import pandas as pd\n",
        "import math\n",
        "\n",
        "\n",
        "def entropy(target_col):\n",
        "    counts = target_col.value_counts()\n",
        "    total = counts.sum()\n",
        "    return -sum((count/total) * math.log2(count/total) for count in counts)\n",
        "\n",
        "\n",
        "def information_gain(df, attribute, target=\"Answer\"):\n",
        "    total_entropy = entropy(df[target])\n",
        "    values = df[attribute].unique()\n",
        "    weighted_entropy = sum(\n",
        "        (len(df[df[attribute] == value]) / len(df)) * entropy(df[df[attribute] == value][target])\n",
        "        for value in values\n",
        "    )\n",
        "    return total_entropy - weighted_entropy\n",
        "\n",
        "\n",
        "def id3(df, attributes, target=\"Answer\"):\n",
        "\n",
        "    if len(df[target].unique()) == 1:\n",
        "        return df[target].iloc[0]\n",
        "\n",
        "\n",
        "    if not attributes:\n",
        "        return df[target].mode()[0]\n",
        "\n",
        "\n",
        "    gains = {attr: information_gain(df, attr, target) for attr in attributes}\n",
        "    best_attribute = max(gains, key=gains.get)\n",
        "\n",
        "    tree = {best_attribute: {}}\n",
        "\n",
        "\n",
        "    for value in df[best_attribute].unique():\n",
        "        subset = df[df[best_attribute] == value]\n",
        "        new_attributes = [attr for attr in attributes if attr != best_attribute]\n",
        "        tree[best_attribute][value] = id3(subset, new_attributes, target)\n",
        "\n",
        "    return tree\n",
        "\n",
        "\n",
        "file_path = \"/content/id3.csv\"\n",
        "df = pd.read_csv(file_path)\n",
        "\n",
        "\n",
        "target = \"Answer\"\n",
        "attributes = [col for col in df.columns if col != target]\n",
        "\n",
        "\n",
        "decision_tree = id3(df, attributes, target)\n",
        "\n",
        "print(\"Decision Tree:\")\n",
        "print(decision_tree)\n"
      ]
    },
    {
      "cell_type": "code",
      "source": [
        "import pandas as pd\n",
        "import math\n",
        "from anytree import Node, RenderTree\n",
        "\n",
        "# Function to calculate entropy\n",
        "def entropy(target_col):\n",
        "    counts = target_col.value_counts()\n",
        "    total = counts.sum()\n",
        "    return -sum((count/total) * math.log2(count/total) for count in counts)\n",
        "\n",
        "# Function to calculate information gain\n",
        "def information_gain(df, attribute, target=\"Answer\"):\n",
        "    total_entropy = entropy(df[target])\n",
        "    values = df[attribute].unique()\n",
        "    weighted_entropy = sum(\n",
        "        (len(df[df[attribute] == value]) / len(df)) * entropy(df[df[attribute] == value][target])\n",
        "        for value in values\n",
        "    )\n",
        "    return total_entropy - weighted_entropy\n",
        "\n",
        "# Recursive function to build the decision tree\n",
        "def id3(df, attributes, target=\"Answer\", parent_node=None, branch_value=None):\n",
        "    # If all values in the target column are the same, return that value as a leaf node\n",
        "    if len(df[target].unique()) == 1:\n",
        "        leaf = Node(f\"{branch_value} -> {df[target].iloc[0]}\", parent=parent_node)\n",
        "        return leaf\n",
        "\n",
        "    # If there are no attributes left, return the most common target value\n",
        "    if not attributes:\n",
        "        leaf = Node(f\"{branch_value} -> {df[target].mode()[0]}\", parent=parent_node)\n",
        "        return leaf\n",
        "\n",
        "    # Choose the best attribute\n",
        "    gains = {attr: information_gain(df, attr, target) for attr in attributes}\n",
        "    best_attribute = max(gains, key=gains.get)\n",
        "\n",
        "    # Create root node if it's the first call\n",
        "    if parent_node is None:\n",
        "        root = Node(best_attribute)\n",
        "    else:\n",
        "        root = Node(f\"{branch_value} -> {best_attribute}\", parent=parent_node)\n",
        "\n",
        "    # Split data based on best attribute and recurse\n",
        "    for value in df[best_attribute].unique():\n",
        "        subset = df[df[best_attribute] == value]\n",
        "        new_attributes = [attr for attr in attributes if attr != best_attribute]\n",
        "        id3(subset, new_attributes, target, root, value)\n",
        "\n",
        "    return root\n",
        "\n",
        "# Load dataset from CSV\n",
        "file_path = \"/content/id3.csv\"  # Ensure you have the correct file path\n",
        "df = pd.read_csv(file_path)\n",
        "\n",
        "# Define attributes (excluding target column)\n",
        "target = \"Answer\"  # Ensure the target column matches your dataset\n",
        "attributes = [col for col in df.columns if col != target]\n",
        "\n",
        "# Build decision tree and visualize\n",
        "decision_tree_root = id3(df, attributes, target)\n",
        "\n",
        "# Display decision tree in a hierarchical format\n",
        "print(\"\\nDecision Tree Structure:\")\n",
        "for pre, _, node in RenderTree(decision_tree_root):\n",
        "    print(f\"{pre}{node.name}\")\n"
      ],
      "metadata": {
        "colab": {
          "base_uri": "https://localhost:8080/"
        },
        "id": "xSow0jipY6j-",
        "outputId": "8b4e4387-b9f1-45fe-b410-76c2dc405f48"
      },
      "execution_count": null,
      "outputs": [
        {
          "output_type": "stream",
          "name": "stdout",
          "text": [
            "\n",
            "Decision Tree Structure:\n",
            "Outlook\n",
            "├── sunny -> Humidity\n",
            "│   ├── high -> no\n",
            "│   └── normal -> yes\n",
            "├── overcast -> yes\n",
            "└── rain -> Wind\n",
            "    ├── weak -> yes\n",
            "    └── strong -> no\n"
          ]
        }
      ]
    }
  ]
}